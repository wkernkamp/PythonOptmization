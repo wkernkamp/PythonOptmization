{
 "cells": [
  {
   "cell_type": "code",
   "execution_count": 2,
   "metadata": {},
   "outputs": [
    {
     "name": "stdout",
     "output_type": "stream",
     "text": [
      "The slowest run took 496.59 times longer than the fastest. This could mean that an intermediate result is being cached.\n",
      "1 loop, best of 3: 3.97 ms per loop\n"
     ]
    }
   ],
   "source": [
    "import math\n",
    "import numpy as np\n",
    "from numba import cuda, jit\n",
    "\n",
    "@cuda.jit\n",
    "def mandel_numba_cuda(an_array,r1,r2):\n",
    "    x, y = cuda.grid(2)\n",
    "    if x < an_array.shape[0] and y < an_array.shape[1]:\n",
    "        z = complex( r1[x], r2[y])\n",
    "        c = z\n",
    "        for n in range(80):\n",
    "            if abs(z) > 2:\n",
    "                an_array[x,y]=n\n",
    "            z = z*z + c\n",
    "        an_array[x,y]=n\n",
    "    return\n",
    "\n",
    "threadsperblock = (32, 32)\n",
    "\n",
    "@jit\n",
    "def mandelperf_numba_cuda():\n",
    "    r1 = np.linspace(-2.0, 0.5, 260, dtype=float)\n",
    "    r2 = np.linspace(-1.0, 1.0, 210, dtype=float)\n",
    "    an_array=np.zeros((r1.shape[0],r2.shape[0]), dtype=int)\n",
    "    blockspergrid_x = math.ceil(an_array.shape[0] / threadsperblock[0])\n",
    "    blockspergrid_y = math.ceil(an_array.shape[1] / threadsperblock[1])\n",
    "    blockspergrid = (blockspergrid_x, blockspergrid_y)\n",
    "    mandel_numba_cuda[blockspergrid, threadsperblock](an_array,r1,r2)\n",
    "    return an_array\n",
    "\n",
    "%timeit mandelperf_numba_cuda()"
   ]
  },
  {
   "cell_type": "code",
   "execution_count": null,
   "metadata": {
    "collapsed": true
   },
   "outputs": [],
   "source": []
  }
 ],
 "metadata": {
  "kernelspec": {
   "display_name": "Python 3",
   "language": "python",
   "name": "python3"
  },
  "language_info": {
   "codemirror_mode": {
    "name": "ipython",
    "version": 3
   },
   "file_extension": ".py",
   "mimetype": "text/x-python",
   "name": "python",
   "nbconvert_exporter": "python",
   "pygments_lexer": "ipython3",
   "version": "3.6.1"
  }
 },
 "nbformat": 4,
 "nbformat_minor": 2
}
